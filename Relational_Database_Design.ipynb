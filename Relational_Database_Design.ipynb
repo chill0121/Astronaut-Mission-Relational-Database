{
 "cells": [
  {
   "cell_type": "markdown",
   "metadata": {},
   "source": [
    "# NASA Astronaut and Mission Database\n",
    "\n",
    "An example of Relational Database Design.\n",
    "\n",
    "---\n",
    "\n",
    "## Step 1:\n",
    "\n",
    "### Background\n",
    "\n",
    "With the predicted increase in solar activity this year, NASA is building contingency plans for all of their systems. An unfortunately timed coronal mass ejection (CME) with total ejected mass equal to or greater than the Carrington Event in 1859 has potential to devastate unprotected power transmission, communications, and electronics systems globally in a way we haven't seen since the adoption of modern technologies.\n",
    "\n",
    " NASA has put out a contract to design a replacement database that stores all their previous and upcoming mission information. This database would include information on Astronauts, Missions, Training, Launch Vehicles, Spacecraft, and daily information about the International Space Station (ISS)."
   ]
  },
  {
   "cell_type": "markdown",
   "metadata": {},
   "source": [
    "## Step 2:\n",
    "\n",
    "### Build the Entity Relationship Model\n",
    "\n",
    "*Note: An asterisk (\\*) denotes a primary key or candidate key of the entity.*\n",
    "\n",
    "**Entities:**\n",
    "- `Astronauts`: *EmployeeID, FirstName, LastName, Address, MissionsFlown, DoB, EmergencyContact, FlightHours, Specialization, Rank, Nationality\n",
    "- `ISS`: *Date, CurrentCrew, Maintenance, Apogee, Perigee, OrbitalSpeed, OrbitalInclination, OrbitalPeriod, SpacecraftDocked\n",
    "- `Spacecraft`: *CosparID, *Callsign, LaunchDate, Crew, CrewSize, LaunchVehicle, LaunchSite, FundingAgency, Docked, OrbitingBody, Apogee, Perigee, OrbitalInclination, OrbitalPeriod\n",
    "- `Rockets`: *LaunchVehicleID, Payload, TotalLaunches, BoosterType, Propellant, EmptyMass, GrossMass, MaxThrust, Stages, OrbitType, ReusableExpendable, Contractor\n",
    "- `Missions`: *MissionID, MissionType, Spacecraft, PlannedDuration, ActualDuration, Crew\n",
    "- `Training`: *TrainingID, TrainingType, Crew, Spacecraft, Success, Failure, Mission\n",
    "\n",
    "**Relationships:**\n",
    "- `Astronauts` may be on one or more `ISS` mission; `ISS` must have one or more `Astronauts` onboard.\n",
    "- `Astronauts` may be a crew member on one or more `Spacecraft`; `Spacecraft` may have one or more `Astronauts` as crew.\n",
    "- `Astronauts` may be assigned to one or more `Mission`; `Missions` may have one or more `Astronauts` assigned to them.\n",
    "- `ISS` may have one or more `Spacecraft` docked to it; `Spacecraft` may be docked to one and only one the `ISS`.\n",
    "- `ISS` may be associated with one or more `Missions`; `Missions` may be associated with one or more `ISS`.\n",
    "- `Spacecraft` must be launched by one and only one `Rocket`; `Rockets` may launch one or more `Spacecraft`.\n",
    "- `Spacecraft` may be assigned one or more `Missions`; `Missions` must assign one or more `Spacecraft`.\n",
    "- `Rockets` may be reused one or more times (`Rockets`); `Rockets` may reference one and only one reused `Rockets` (previous launch).\n",
    "- `Missions` may include one more more `Training`; `Training` must reference one or more `Missions`.\n",
    "- `Training` must be assigned to one or more `Astronauts`; `Astronauts` must be assigned one or more `Training`."
   ]
  },
  {
   "cell_type": "markdown",
   "metadata": {},
   "source": [
    "## Step 3:\n",
    "\n",
    "### Create the Entity Relationship Diagram\n",
    "\n",
    "<img src=\"Final_NASA_ERD.png\" alt=\"ERD\" width=\"600\"/>"
   ]
  },
  {
   "cell_type": "markdown",
   "metadata": {},
   "source": [
    "## Step 4:\n",
    "\n",
    "### Convert the ERD to the Relational Model\n",
    "\n",
    "*Note: An <u>underline</u> denotes a primary key or candidate key of the relation, and (fk) denotes a foreign key.*\n",
    "\n",
    "**Relations:**\n",
    "- `Astronauts` (<u>EmployeeID</u>, FirstName, LastName, Address, MissionsFlown, DoB, EmergencyContact, FlightHours, Specialization, Rank, Nationality)\n",
    "- `Spacecraft_Crew` (<u>EmployeeID(fk)</u>, <u>CosparID(fk)</u>)\n",
    "- `Astronaut_Training` (<u>EmployeeID(fk)</u>, <u>TrainingID(fk)</u>)\n",
    "- `ISS_Crew` (<u>EmployeeID(fk)</u>, <u>Date(fk)</u>)\n",
    "- `Assigned_Missions` (<u>EmployeeID(fk)</u>, <u>MissionID(fk)</u>)\n",
    "- `ISS` (<u>Date</u>, CurrentCrew, Maintenance, Apogee, Perigee, OrbitalSpeed, OrbitalInclination, OrbitalPeriod, SpacecraftDocked)\n",
    "- `ISS_Missions` (<u>Date(fk)</u>, <u>MissionID(fk)</u>)\n",
    "- `Spacecraft` (<u>CosparID</u>, <u>Callsign</u>, LaunchDate, Crew, CrewSize, LaunchVehicle, LaunchSite, FundingAgency, Docked, OrbitingBody, Apogee, Perigee, OrbitalInclination, OrbitalPeriod, DockedDate(fk))\n",
    "- `Spacecraft_Missions` (<u>CosparID(fk)</u>, <u>MissionID(fk)</u>)\n",
    "- `Spacecraft_Rocket` (<u>CosparID(fk)</u>, <u>LaunchVehicleID(fk)</u>)\n",
    "- `Rockets` (<u>LaunchVehicleID</u>, Payload, TotalLaunches, BoosterType, Propellant, EmptyMass, GrossMass, MaxThrust, Stages, OrbitType, ReusableExpendable, Contractor, ReusedLaunchVehicleID(fk))\n",
    "- `Missions` (<u>MissionID</u>, MissionType, Spacecraft, PlannedDuration, ActualDuration, Crew)\n",
    "- `Training` (<u>TrainingID</u>, TrainingType, Crew, Spacecraft, Success, Failure, Mission)\n",
    "- `Training_Missions` (<u>MissionID(fk)</u>, <u>TrainingID(fk)</u>)"
   ]
  },
  {
   "cell_type": "markdown",
   "metadata": {},
   "source": [
    "## Step 5:\n",
    "\n",
    "### Normalize the Relational Model to 3NF\n",
    "\n",
    "Before normalization, we need to map out the Functional Dependencies (FD) of the relations (how some attributes are dependant on the primary keys, or attributes that are dependant on other attributes.):\n",
    "\n",
    "*Note: An arrow (→) denotes the attributes on the right are functionally dependent on the attributes/primary keys on the left.*\n",
    "\n",
    "**Functional Dependencies:**\n",
    "- `Astronauts` (<u>EmployeeID</u>, FirstName, LastName, Address, MissionsFlown, DoB, EmergencyContact, FlightHours, Specialization, Rank, Nationality)\n",
    "    - FD1: EmployeeID → FirstName, LastName, Address, MissionsFlown, DoB, EmergencyContact, FlightHours, Specialization, Rank, Nationality\n",
    "- `Spacecraft_Crew` (<u>EmployeeID(fk)</u>, <u>CosparID(fk)</u>)\n",
    "    - No non-primary-key attributes; no dependancies.\n",
    "- `Astronaut_Training` (<u>EmployeeID(fk)</u>, <u>TrainingID(fk)</u>)\n",
    "    - No non-primary-key attributes; no dependancies.\n",
    "- `ISS_Crew` (<u>EmployeeID(fk)</u>, <u>Date(fk)</u>)\n",
    "    - No non-primary-key attributes; no dependancies.\n",
    "- `Assigned_Missions` (<u>EmployeeID(fk)</u>, <u>MissionID(fk)</u>)\n",
    "    - No non-primary-key attributes; no dependancies.\n",
    "- `ISS` (<u>Date</u>, CurrentCrew, Maintenance, Apogee, Perigee, OrbitalSpeed, OrbitalInclination, OrbitalPeriod, SpacecraftDocked)\n",
    "    - FD1: <u>Date</u> → CurrentCrew, Maintenance, Apogee, Perigee, OrbitalSpeed, OrbitalInclination, OrbitalPeriod, SpacecraftDocked\n",
    "    - FD2: Apogee, Perigee, OrbitalSpeed → OrbitalPeriod\n",
    "- `ISS_Missions` (<u>Date(fk)</u>, <u>MissionID(fk)</u>)\n",
    "    - No non-primary-key attributes; no dependancies.\n",
    "- `Spacecraft` (<u>CosparID</u>, <u>Callsign</u>, LaunchDate, Crew, CrewSize, LaunchVehicle, LaunchSite, FundingAgency, Docked, OrbitingBody, Apogee, Perigee, OrbitalInclination, OrbitalPeriod, DockedDate(fk))\n",
    "    - FD1: <u>CosparID</u>, <u>Callsign</u> → LaunchDate, Crew, CrewSize, LaunchVehicle, LaunchSite, FundingAgency, Docked, OrbitingBody, Apogee, Perigee, OrbitalInclination, OrbitalPeriod, DockedDate(fk)\n",
    "    - FD2: <u>Callsign</u> → Crew\n",
    "    - FD3: Docked → DockedDate(fk)\n",
    "- `Spacecraft_Missions` (<u>CosparID(fk)</u>, <u>MissionID(fk)</u>)\n",
    "    - No non-primary-key attributes; no dependancies.\n",
    "- `Spacecraft_Rocket` (<u>CosparID(fk)</u>, <u>LaunchVehicleID(fk)</u>)\n",
    "    - No non-primary-key attributes; no dependancies.\n",
    "- `Rockets` (<u>LaunchVehicleID</u>, Payload, TotalLaunches, BoosterType, Propellant, EmptyMass, GrossMass, MaxThrust, Stages, OrbitType, ReusableExpendable, Contractor, ReusedLaunchVehicleID(fk))\n",
    "    - FD1: <u>LaunchVehicleID</u> → Payload, TotalLaunches, BoosterType, Propellant, EmptyMass, GrossMass, MaxThrust, Stages, OrbitType, ReusableExpendable, Contractor, ReusedLaunchVehicleID(fk)\n",
    "    - FD2: ReusableExpendable → TotalLaunches\n",
    "- `Missions` (<u>MissionID</u>, MissionType, Spacecraft, PlannedDuration, ActualDuration, Crew)\n",
    "    - FD1: <u>MissionID</u> → MissionType, Spacecraft, PlannedDuration, ActualDuration, Crew\n",
    "- `Training` (<u>TrainingID</u>, TrainingType, Crew, Spacecraft, Success, Failure, Mission)\n",
    "    - FD1: <u>TrainingID</u> → TrainingType, Crew, Spacecraft, Success, Failure, Mission\n",
    "    - FD2: TrainingType → Crew\n",
    "- `Training_Missions` (<u>MissionID(fk)</u>, <u>TrainingID(fk)</u>)\n",
    "    - No non-primary-key attributes; no dependancies."
   ]
  },
  {
   "cell_type": "markdown",
   "metadata": {},
   "source": [
    "## Step 6:\n",
    "\n",
    "### Finalized Relational Model - Ready for Implementation"
   ]
  }
 ],
 "metadata": {
  "language_info": {
   "name": "python"
  }
 },
 "nbformat": 4,
 "nbformat_minor": 2
}
